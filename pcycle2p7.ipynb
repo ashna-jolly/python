{
  "nbformat": 4,
  "nbformat_minor": 0,
  "metadata": {
    "colab": {
      "name": "pcycle2p7.ipynb",
      "provenance": [],
      "authorship_tag": "ABX9TyO5GAlO+V0x6kJGejY+AG9X",
      "include_colab_link": true
    },
    "kernelspec": {
      "name": "python3",
      "display_name": "Python 3"
    }
  },
  "cells": [
    {
      "cell_type": "markdown",
      "metadata": {
        "id": "view-in-github",
        "colab_type": "text"
      },
      "source": [
        "<a href=\"https://colab.research.google.com/github/ashna-jolly/python/blob/master/pcycle2p7.ipynb\" target=\"_parent\"><img src=\"https://colab.research.google.com/assets/colab-badge.svg\" alt=\"Open In Colab\"/></a>"
      ]
    },
    {
      "cell_type": "code",
      "metadata": {
        "colab": {
          "base_uri": "https://localhost:8080/"
        },
        "id": "Z4pnOUCl821E",
        "outputId": "73d4b7d1-03a6-4d99-ab6a-d36a5747e66a"
      },
      "source": [
        "#7\r\n",
        "x=[]\r\n",
        "a=int(input(\"Enter the limit for list1:\"))\r\n",
        "for i in range(1,a+1):\r\n",
        "   a=int(input())\r\n",
        "   x.append(a)\r\n",
        "print(x)\r\n",
        "y=[]\r\n",
        "b=int(input(\"Enter the limit for list2:\"))\r\n",
        "for i in range(1,b+1):\r\n",
        "  b=int(input())\r\n",
        "  y.append(b)\r\n",
        "print(y)\r\n",
        "if (len(x)==len(y)):\r\n",
        "  print(\"List1 and List2 are of same Length i.e,\",len(x))\r\n",
        "else:\r\n",
        "  print(\"List1 and List2 are of different Length.\")\r\n",
        "if (sum(x)==sum(y)):\r\n",
        "   print(\"List1 and List2 sums to the same value i.e,\",sum(x))\r\n",
        "else:\r\n",
        "   print(\"List1 and List2 sums upto different values.\")\r\n",
        "def common(x,y):\r\n",
        "     p=set(x)\r\n",
        "     q=set(y)\r\n",
        "     if len(p.intersection(q)) >0:\r\n",
        "        return(p.intersection(q))\r\n",
        "     else:\r\n",
        "          return(\"No common Elements\")\r\n",
        "print(\"Value that occur in both lists is/are:\",common(x,y))"
      ],
      "execution_count": 2,
      "outputs": [
        {
          "output_type": "stream",
          "text": [
            "Enter the limit for list1:4\n",
            "4\n",
            "5\n",
            "7\n",
            "3\n",
            "[4, 5, 7, 3]\n",
            "Enter the limit for list2:4\n",
            "7\n",
            "8\n",
            "2\n",
            "2\n",
            "[7, 8, 2, 2]\n",
            "List1 and List2 are of same Length i.e, 4\n",
            "List1 and List2 sums to the same value i.e, 19\n",
            "Value that occur in both lists is/are: {7}\n"
          ],
          "name": "stdout"
        }
      ]
    }
  ]
}