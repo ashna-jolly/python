{
  "nbformat": 4,
  "nbformat_minor": 0,
  "metadata": {
    "colab": {
      "name": "pycy1.ipynb",
      "provenance": [],
      "authorship_tag": "ABX9TyMg+CH/vE4IQO1dkzU3kVU3",
      "include_colab_link": true
    },
    "kernelspec": {
      "name": "python3",
      "display_name": "Python 3"
    }
  },
  "cells": [
    {
      "cell_type": "markdown",
      "metadata": {
        "id": "view-in-github",
        "colab_type": "text"
      },
      "source": [
        "<a href=\"https://colab.research.google.com/github/ashna-jolly/python/blob/master/pycy1.ipynb\" target=\"_parent\"><img src=\"https://colab.research.google.com/assets/colab-badge.svg\" alt=\"Open In Colab\"/></a>"
      ]
    },
    {
      "cell_type": "code",
      "metadata": {
        "colab": {
          "base_uri": "https://localhost:8080/"
        },
        "id": "F44tKzXLV6Y0",
        "outputId": "dd7dcd6b-74ce-4b2d-99e2-6c47167d5d50"
      },
      "source": [
        "#count\r\n",
        "n=int(input(\"enter any number: \"))\r\n",
        "count=0\r\n",
        "while(n>0):\r\n",
        "  count=count+1\r\n",
        "  n=n//10\r\n",
        "print(\"the number of digits in the given number is: \",count)"
      ],
      "execution_count": 1,
      "outputs": [
        {
          "output_type": "stream",
          "text": [
            "enter any number: 123\n",
            "the number of digits in the given number is:  3\n"
          ],
          "name": "stdout"
        }
      ]
    },
    {
      "cell_type": "code",
      "metadata": {
        "colab": {
          "base_uri": "https://localhost:8080/"
        },
        "id": "dft2m6BrWBJt",
        "outputId": "baef792c-971a-488d-8393-c48c6ffcfcf9"
      },
      "source": [
        "#even\r\n",
        "a=input(\"enter the number: \")\r\n",
        "c=int(a)%2\r\n",
        "if(c==0):\r\n",
        "  print(a,\"is an even number: \")\r\n",
        "else:\r\n",
        "    print(a,\"is an odd number: \")"
      ],
      "execution_count": 2,
      "outputs": [
        {
          "output_type": "stream",
          "text": [
            "enter the number: 23\n",
            "23 is an odd number: \n"
          ],
          "name": "stdout"
        }
      ]
    },
    {
      "cell_type": "code",
      "metadata": {
        "colab": {
          "base_uri": "https://localhost:8080/"
        },
        "id": "wmn3YNe5WSNM",
        "outputId": "eaa3a66c-6f22-4736-9487-999bf45785df"
      },
      "source": [
        "#factorial\r\n",
        "n=int(input(\"enter any number: \"))\r\n",
        "fact=1\r\n",
        "for i in range(1,n+1):\r\n",
        " fact = fact*i\r\n",
        "print(\"The factorial of\",n,\"is\",fact)\r\n"
      ],
      "execution_count": 3,
      "outputs": [
        {
          "output_type": "stream",
          "text": [
            "enter any number: 56\n",
            "The factorial of 56 is 710998587804863451854045647463724949736497978881168458687447040000000000000\n"
          ],
          "name": "stdout"
        }
      ]
    },
    {
      "cell_type": "code",
      "metadata": {
        "colab": {
          "base_uri": "https://localhost:8080/"
        },
        "id": "Fj9yqEAlWasc",
        "outputId": "60dbd299-a1ca-4c85-d5d4-b7f97408faf6"
      },
      "source": [
        "#fibonacci\r\n",
        "n=int(input(\"enter any number: \"))\r\n",
        "x,y=0,1\r\n",
        "count=0\r\n",
        "if n<=0:\r\n",
        "  print(\"enter a positive number\")\r\n",
        "elif n==1:\r\n",
        "  print(\"Fibonacci sequence upto\",n,\":\")\r\n",
        "  print(x)\r\n",
        "else:\r\n",
        "  print(\"Fibonacci sequence:\")\r\n",
        "  while count<n:\r\n",
        "      print(x)\r\n",
        "      z = x+y\r\n",
        "      x=y\r\n",
        "      y=x\r\n",
        "      count+=1"
      ],
      "execution_count": 4,
      "outputs": [
        {
          "output_type": "stream",
          "text": [
            "enter any number: 4\n",
            "Fibonacci sequence:\n",
            "0\n",
            "1\n",
            "1\n",
            "1\n"
          ],
          "name": "stdout"
        }
      ]
    },
    {
      "cell_type": "code",
      "metadata": {
        "colab": {
          "base_uri": "https://localhost:8080/"
        },
        "id": "BhjWv4dmWnvU",
        "outputId": "c39eb0f3-1d9c-49f9-a890-9167ea50ba56"
      },
      "source": [
        "#hello\r\n",
        "print(\"Hello, World!\")"
      ],
      "execution_count": 5,
      "outputs": [
        {
          "output_type": "stream",
          "text": [
            "Hello, World!\n"
          ],
          "name": "stdout"
        }
      ]
    },
    {
      "cell_type": "code",
      "metadata": {
        "colab": {
          "base_uri": "https://localhost:8080/"
        },
        "id": "TGjt4zAVW2PU",
        "outputId": "132a8bc8-e8c3-419a-a460-babdd2d57ad8"
      },
      "source": [
        "#integer\r\n",
        "a=input(\"enter an integer: \");\r\n",
        "print(a)"
      ],
      "execution_count": 6,
      "outputs": [
        {
          "output_type": "stream",
          "text": [
            "enter an integer: 3\n",
            "3\n"
          ],
          "name": "stdout"
        }
      ]
    },
    {
      "cell_type": "code",
      "metadata": {
        "colab": {
          "base_uri": "https://localhost:8080/"
        },
        "id": "q2WUADp7W9hc",
        "outputId": "8b998c74-2171-45f7-8a27-e78e2ba15c55"
      },
      "source": [
        "#largest\r\n",
        "a=input(\"enter first number: \")\r\n",
        "b=input(\"enter second number: \")\r\n",
        "c=input(\"enter third number: \")\r\n",
        "if(a>b)&(a>c):\r\n",
        "  print(a,\"is the largest number\")\r\n",
        "elif(b>a)&(b>c):\r\n",
        "  print(b,\"is the largest number\")\r\n",
        "else:\r\n",
        "  print(c,\"is the largest number\")"
      ],
      "execution_count": 7,
      "outputs": [
        {
          "output_type": "stream",
          "text": [
            "enter first number: 3\n",
            "enter second number: 6\n",
            "enter third number: 2\n",
            "6 is the largest number\n"
          ],
          "name": "stdout"
        }
      ]
    },
    {
      "cell_type": "code",
      "metadata": {
        "colab": {
          "base_uri": "https://localhost:8080/"
        },
        "id": "KzphO0X2XEbT",
        "outputId": "915db654-b0d5-4eae-8687-fbaa4131b48a"
      },
      "source": [
        "#lcm\r\n",
        "def compute_lcm(x, y):\r\n",
        "   if x > y:\r\n",
        "       greater = x\r\n",
        "   else:\r\n",
        "       greater = y\r\n",
        "   while(True):\r\n",
        "       if((greater % x == 0) and (greater % y == 0)):\r\n",
        "           lcm = greater\r\n",
        "           break\r\n",
        "       greater += 1\r\n",
        "   return lcm\r\n",
        "a=int(input(\"enter the value of first number: \"))\r\n",
        "b=int(input(\"enter the value of second number: \"))\r\n",
        "print(\"The L.C.M. is\",compute_lcm(a,b))\r\n",
        "\r\n"
      ],
      "execution_count": 8,
      "outputs": [
        {
          "output_type": "stream",
          "text": [
            "enter the value of first number: 3\n",
            "enter the value of second number: 5\n",
            "The L.C.M. is 15\n"
          ],
          "name": "stdout"
        }
      ]
    },
    {
      "cell_type": "code",
      "metadata": {
        "colab": {
          "base_uri": "https://localhost:8080/"
        },
        "id": "lVJrZdVAXNU7",
        "outputId": "640aaed3-f9b7-4879-a4da-ee2e69f777bf"
      },
      "source": [
        "#leap year\r\n",
        "yr=int(input(\"enter a year: \"))\r\n",
        "if((yr%400==0) or ((yr%4==0) and (yr%100!=0))):\r\n",
        "  print(yr,\"is a leap year\")\r\n",
        "else:\r\n",
        "  print(yr,\"is not a leap year\")"
      ],
      "execution_count": 9,
      "outputs": [
        {
          "output_type": "stream",
          "text": [
            "enter a year: 2019\n",
            "2019 is not a leap year\n"
          ],
          "name": "stdout"
        }
      ]
    },
    {
      "cell_type": "code",
      "metadata": {
        "colab": {
          "base_uri": "https://localhost:8080/"
        },
        "id": "TXbK76PjXYvL",
        "outputId": "0aab2118-00d2-48be-8536-7412bed54180"
      },
      "source": [
        "#multitable\r\n",
        "n=int(input(\"show the multiplication table of \"))\r\n",
        "for i in range(1, 11):\r\n",
        "  print(n,'x', i, '=', n*i)\r\n"
      ],
      "execution_count": 10,
      "outputs": [
        {
          "output_type": "stream",
          "text": [
            "show the multiplication table of 3\n",
            "3 x 1 = 3\n",
            "3 x 2 = 6\n",
            "3 x 3 = 9\n",
            "3 x 4 = 12\n",
            "3 x 5 = 15\n",
            "3 x 6 = 18\n",
            "3 x 7 = 21\n",
            "3 x 8 = 24\n",
            "3 x 9 = 27\n",
            "3 x 10 = 30\n"
          ],
          "name": "stdout"
        }
      ]
    },
    {
      "cell_type": "code",
      "metadata": {
        "colab": {
          "base_uri": "https://localhost:8080/"
        },
        "id": "ZbY9aZblXiHy",
        "outputId": "d1708d93-3f3f-4b07-ada7-3ea8ac1d0434"
      },
      "source": [
        "#naturalsum\r\n",
        "num=int(input(\"enter a number: \"))\r\n",
        "if num < 0:\r\n",
        "   print(\"Enter a positive number\")\r\n",
        "else:\r\n",
        "   sum = 0\r\n",
        "   while(num > 0):\r\n",
        "       sum += num\r\n",
        "       num -= 1\r\n",
        "   print(\"The sum of natural numbers is\", sum)\r\n"
      ],
      "execution_count": 11,
      "outputs": [
        {
          "output_type": "stream",
          "text": [
            "enter a number: 4\n",
            "The sum of natural numbers is 10\n"
          ],
          "name": "stdout"
        }
      ]
    },
    {
      "cell_type": "code",
      "metadata": {
        "colab": {
          "base_uri": "https://localhost:8080/"
        },
        "id": "x6CAynFxXp3N",
        "outputId": "1cb302a3-441e-4ccf-da1b-ddf7190902f5"
      },
      "source": [
        "#palindrome\r\n",
        "n=int(input(\"enter a number: \"))\r\n",
        "rev=0\r\n",
        "temp=n\r\n",
        "while(temp>0):\r\n",
        "  r=temp%10\r\n",
        "  rev=(rev*10)+r\r\n",
        "  temp=temp//10\r\n",
        "print(\"reverse of this given number is\",rev)\r\n",
        "if(n==rev):\r\n",
        "  print(n,\"is a palindrome number\")\r\n",
        "else:\r\n",
        "  print(n,\"is not a palindrome number\")\r\n"
      ],
      "execution_count": 12,
      "outputs": [
        {
          "output_type": "stream",
          "text": [
            "enter a number: 3\n",
            "reverse of this given number is 3\n",
            "3 is a palindrome number\n"
          ],
          "name": "stdout"
        }
      ]
    },
    {
      "cell_type": "code",
      "metadata": {
        "colab": {
          "base_uri": "https://localhost:8080/"
        },
        "id": "OSYU0JZlX1Ub",
        "outputId": "60c8c11e-8c19-4773-8fca-2ac29d75115c"
      },
      "source": [
        "#positive\r\n",
        "a=input(\"enter the number: \")\r\n",
        "if(int(a)>0):\r\n",
        "  print(a,\"is a positive number: \")\r\n",
        "else:\r\n",
        "  print(a,\"is a negative number: \")"
      ],
      "execution_count": 13,
      "outputs": [
        {
          "output_type": "stream",
          "text": [
            "enter the number: -5\n",
            "-5 is a negative number: \n"
          ],
          "name": "stdout"
        }
      ]
    },
    {
      "cell_type": "code",
      "metadata": {
        "colab": {
          "base_uri": "https://localhost:8080/"
        },
        "id": "y6_K_ICPX-oC",
        "outputId": "d4ee20bf-ef89-4050-9d19-071b02855fed"
      },
      "source": [
        "#power\r\n",
        "n=int(input(\"enter a positive number: \"))\r\n",
        "e=int(input(\"enter the value of exponent: \"))\r\n",
        "p=1\r\n",
        "for i in range(1,e+1):\r\n",
        "  p=p*n\r\n",
        "print(\"the power of\",n,\"^\",e,\"is\",p)"
      ],
      "execution_count": 14,
      "outputs": [
        {
          "output_type": "stream",
          "text": [
            "enter a positive number: 5\n",
            "enter the value of exponent: 7\n",
            "the power of 5 ^ 7 is 78125\n"
          ],
          "name": "stdout"
        }
      ]
    },
    {
      "cell_type": "code",
      "metadata": {
        "colab": {
          "base_uri": "https://localhost:8080/"
        },
        "id": "qUHRJ7nJYEPj",
        "outputId": "3a52b49b-f6ea-4518-b53c-bfa9ad3f17c7"
      },
      "source": [
        "#product\r\n",
        "a=input(\"enter first number: \")\r\n",
        "b=input(\"enter second number: \")\r\n",
        "sum=float(a)*float(b)\r\n",
        "print(\"sum of float number: \",sum)\r\n"
      ],
      "execution_count": 15,
      "outputs": [
        {
          "output_type": "stream",
          "text": [
            "enter first number: 3\n",
            "enter second number: 2\n",
            "sum of float number:  6.0\n"
          ],
          "name": "stdout"
        }
      ]
    },
    {
      "cell_type": "code",
      "metadata": {
        "colab": {
          "base_uri": "https://localhost:8080/"
        },
        "id": "WEotOiVtYMwa",
        "outputId": "97adc505-d31a-44fc-bf5a-7a6d2170218b"
      },
      "source": [
        "#quotient\r\n",
        "a=int(input(\"enter the first value: \"))\r\n",
        "b=int(input(\"enter the second value: \"))\r\n",
        "q=a//b\r\n",
        "print(\"quotient: \",q)\r\n",
        "r=a%b\r\n",
        "print(\"remainder: \",r)\r\n"
      ],
      "execution_count": 16,
      "outputs": [
        {
          "output_type": "stream",
          "text": [
            "enter the first value: 45\n",
            "enter the second value: 6\n",
            "quotient:  7\n",
            "remainder:  3\n"
          ],
          "name": "stdout"
        }
      ]
    },
    {
      "cell_type": "code",
      "metadata": {
        "colab": {
          "base_uri": "https://localhost:8080/"
        },
        "id": "I9vy7YL0ZT2p",
        "outputId": "f40e34bb-d2cd-40af-e1bf-904033d2b913"
      },
      "source": [
        "#reverse\r\n",
        "x=int(input(\"enter a number to be reversed: \"))\r\n",
        "rev=0\r\n",
        "while(x>0): \r\n",
        "    rev =(rev*10)+(x%10) \r\n",
        "    x= x// 10\r\n",
        "print(\"reverse is\",rev) "
      ],
      "execution_count": 17,
      "outputs": [
        {
          "output_type": "stream",
          "text": [
            "enter a number to be reversed: 56\n",
            "reverse is 65\n"
          ],
          "name": "stdout"
        }
      ]
    },
    {
      "cell_type": "code",
      "metadata": {
        "colab": {
          "base_uri": "https://localhost:8080/"
        },
        "id": "CUfxddWvZ2VB",
        "outputId": "4e4bec87-1b28-47b2-a629-25b1a207668e"
      },
      "source": [
        "#sum\r\n",
        "a=input(\"enter first number: \")\r\n",
        "b=input(\"enter second number: \")\r\n",
        "sum=int(a)+int(b);\r\n",
        "print(sum)\r\n"
      ],
      "execution_count": 18,
      "outputs": [
        {
          "output_type": "stream",
          "text": [
            "enter first number: 5\n",
            "enter second number: 5\n",
            "10\n"
          ],
          "name": "stdout"
        }
      ]
    },
    {
      "cell_type": "code",
      "metadata": {
        "colab": {
          "base_uri": "https://localhost:8080/"
        },
        "id": "E8h_8sNfaFD4",
        "outputId": "887de572-bd51-4bdc-990c-6ea5877ee222"
      },
      "source": [
        "#swap\r\n",
        "a=input(\"enter a: \")\r\n",
        "b=input(\"enter b: \")\r\n",
        "print(\"a=\",a)\r\n",
        "print(\"b=\",b)\r\n",
        "a=int(a)+int(b)\r\n",
        "b=int(a)-int(b)\r\n",
        "a=int(a)-int(b)\r\n",
        "print(\"After swapping: \")\r\n",
        "print(\"a=\",a)\r\n",
        "print(\"b=\",b)3\r\n"
      ],
      "execution_count": 19,
      "outputs": [
        {
          "output_type": "stream",
          "text": [
            "enter a: 4\n",
            "enter b: 5\n",
            "a= 4\n",
            "b= 5\n",
            "After swapping: \n",
            "a= 5\n",
            "b= 4\n"
          ],
          "name": "stdout"
        }
      ]
    },
    {
      "cell_type": "code",
      "metadata": {
        "colab": {
          "base_uri": "https://localhost:8080/"
        },
        "id": "FKO1suOfaGjY",
        "outputId": "42c4ea72-c8cd-4841-b95f-d930720d3293"
      },
      "source": [
        "#vowel\r\n",
        "ch=input(\"enter any character: \")\r\n",
        "if(ch=='A'or ch=='E' or ch=='I' or ch=='O' or ch=='U' or ch=='a' or ch=='e' or ch=='i' or ch=='o' or ch=='u'):\r\n",
        "  print(ch,\"is a vowel\")\r\n",
        "else:\r\n",
        "  print(ch,\"is a consonant\")\r\n"
      ],
      "execution_count": 20,
      "outputs": [
        {
          "output_type": "stream",
          "text": [
            "enter any character: malayalam\n",
            "malayalam is a consonant\n"
          ],
          "name": "stdout"
        }
      ]
    }
  ]
}