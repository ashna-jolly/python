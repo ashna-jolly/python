{
  "nbformat": 4,
  "nbformat_minor": 0,
  "metadata": {
    "colab": {
      "name": "pycy3.ipynb",
      "provenance": [],
      "collapsed_sections": [],
      "authorship_tag": "ABX9TyPjm2HcxCgD/UR5Jg/bzI2r",
      "include_colab_link": true
    },
    "kernelspec": {
      "name": "python3",
      "display_name": "Python 3"
    }
  },
  "cells": [
    {
      "cell_type": "markdown",
      "metadata": {
        "id": "view-in-github",
        "colab_type": "text"
      },
      "source": [
        "<a href=\"https://colab.research.google.com/github/ashna-jolly/python/blob/master/pycy3.ipynb\" target=\"_parent\"><img src=\"https://colab.research.google.com/assets/colab-badge.svg\" alt=\"Open In Colab\"/></a>"
      ]
    },
    {
      "cell_type": "code",
      "metadata": {
        "colab": {
          "base_uri": "https://localhost:8080/"
        },
        "id": "dygy9fr2UNZN",
        "outputId": "0bd3ae4c-c215-472b-a262-362eae179755"
      },
      "source": [
        "#1\r\n",
        "num = int(input(\"Enter a number: \"))  \r\n",
        "factorial = 1  \r\n",
        "if num < 0:  \r\n",
        "   print(\"Sorry, factorial does not exist for negative numbers\")  \r\n",
        "elif num == 0:  \r\n",
        "   print(\"The factorial of 0 is 1\")  \r\n",
        "else:  \r\n",
        "   for i in range(1,num + 1):  \r\n",
        "       factorial = factorial*i  \r\n",
        "   print(\"The factorial of\",num,\"is\",factorial)  "
      ],
      "execution_count": 1,
      "outputs": [
        {
          "output_type": "stream",
          "text": [
            "Enter a number: 6\n",
            "The factorial of 6 is 720\n"
          ],
          "name": "stdout"
        }
      ]
    },
    {
      "cell_type": "code",
      "metadata": {
        "colab": {
          "base_uri": "https://localhost:8080/"
        },
        "id": "nkbjBocAVtVy",
        "outputId": "b4f581df-097c-4949-e147-a406fbec3449"
      },
      "source": [
        "#2\r\n",
        "n = int(input(\"Enter the value of 'n': \"))\r\n",
        "a = 0\r\n",
        "b = 1\r\n",
        "sum = 0\r\n",
        "count = 1\r\n",
        "print(\"Fibonacci Series: \", end = \" \")\r\n",
        "while(count <= n):\r\n",
        "  print(sum, end = \" \")\r\n",
        "  count += 1\r\n",
        "  a = b\r\n",
        "  b = sum\r\n",
        "  sum = a + b"
      ],
      "execution_count": 4,
      "outputs": [
        {
          "output_type": "stream",
          "text": [
            "Enter the value of 'n': 5\n",
            "Fibonacci Series:  0 1 1 2 3 "
          ],
          "name": "stdout"
        }
      ]
    },
    {
      "cell_type": "code",
      "metadata": {
        "colab": {
          "base_uri": "https://localhost:8080/"
        },
        "id": "Vj60yFxNYpWB",
        "outputId": "69021388-f7d4-4756-ed44-d39125240c5e"
      },
      "source": [
        "#3\r\n",
        "list = [10,12,15,18,20]\r\n",
        "print(\"The list is : \" ,list)\r\n",
        "sum = 0\r\n",
        "for x in range(0, len(list)):\r\n",
        "  sum = sum + list[x]\r\n",
        "print(\"Sum of all elements in the given list : \", sum)"
      ],
      "execution_count": 6,
      "outputs": [
        {
          "output_type": "stream",
          "text": [
            "The list is :  [10, 12, 15, 18, 20]\n",
            "Sum of all elements in the given list :  75\n"
          ],
          "name": "stdout"
        }
      ]
    },
    {
      "cell_type": "code",
      "metadata": {
        "colab": {
          "base_uri": "https://localhost:8080/"
        },
        "id": "wxssZ6CGZzkM",
        "outputId": "b76bd6dd-3964-400e-ab51-5089ad1f6548"
      },
      "source": [
        "#4\r\n",
        "for i in range(1000,10000,1):\r\n",
        "  for j in range(32,100,1):\r\n",
        "       if i == j*j:\r\n",
        "           string = str(i)\r\n",
        "           if int(string[0])%2 == 0 and int(string[1])%2 == 0 and int(string[2])%2 == 0 and int(string[3])%2 == 0:\r\n",
        "               print(i)"
      ],
      "execution_count": 7,
      "outputs": [
        {
          "output_type": "stream",
          "text": [
            "4624\n",
            "6084\n",
            "6400\n",
            "8464\n"
          ],
          "name": "stdout"
        }
      ]
    },
    {
      "cell_type": "code",
      "metadata": {
        "colab": {
          "base_uri": "https://localhost:8080/"
        },
        "id": "SO4KPgOpbMfK",
        "outputId": "a8184467-a2fb-490a-ac1f-f00478bf2d76"
      },
      "source": [
        "#6\r\n",
        "def char_frequency(str1):\r\n",
        "    dict = {}\r\n",
        "    for n in str1:\r\n",
        "        keys = dict.keys()\r\n",
        "        if n in keys:\r\n",
        "            dict[n] += 1\r\n",
        "        else:\r\n",
        "            dict[n] = 1\r\n",
        "    return dict\r\n",
        "print(char_frequency('Happy...Birthday'))\r\n"
      ],
      "execution_count": 8,
      "outputs": [
        {
          "output_type": "stream",
          "text": [
            "{'H': 1, 'a': 2, 'p': 2, 'y': 2, '.': 3, 'B': 1, 'i': 1, 'r': 1, 't': 1, 'h': 1, 'd': 1}\n"
          ],
          "name": "stdout"
        }
      ]
    },
    {
      "cell_type": "code",
      "metadata": {
        "colab": {
          "base_uri": "https://localhost:8080/"
        },
        "id": "2l2VjoPxcxao",
        "outputId": "b1f24a1f-30ed-47f8-94f9-69126e5e90a2"
      },
      "source": [
        "#7\r\n",
        "def add_string(str1):  \r\n",
        "  length = len(str1)  \r\n",
        "  \r\n",
        "  if length > 2:  \r\n",
        "    if str1[-3:] == 'ing':  \r\n",
        "      str1 += 'ly'  \r\n",
        "    else:  \r\n",
        "      str1 += 'ing'  \r\n",
        "  \r\n",
        "  return str1  \r\n",
        "print(add_string('pq'))  \r\n",
        "print(add_string('see'))  \r\n",
        "print(add_string('moding'))  "
      ],
      "execution_count": 10,
      "outputs": [
        {
          "output_type": "stream",
          "text": [
            "pq\n",
            "seeing\n",
            "modingly\n"
          ],
          "name": "stdout"
        }
      ]
    },
    {
      "cell_type": "code",
      "metadata": {
        "colab": {
          "base_uri": "https://localhost:8080/"
        },
        "id": "ZsnWX4tFd7Im",
        "outputId": "c2e6347f-e284-4dd6-ab09-a2a1d29a26bd"
      },
      "source": [
        "#8\r\n",
        "def find_longest_word(words_list):\r\n",
        "    word_len = []\r\n",
        "    for n in words_list:\r\n",
        "        word_len.append((len(n), n))\r\n",
        "    word_len.sort()\r\n",
        "    return word_len[-1][0], word_len[-1][1]\r\n",
        "result = find_longest_word([\"Ice\", \"Happiness\", \"Cakes\"])\r\n",
        "print(\"\\nLongest word: \",result[1])\r\n",
        "print(\"Length of the longest word: \",result[0])"
      ],
      "execution_count": 11,
      "outputs": [
        {
          "output_type": "stream",
          "text": [
            "\n",
            "Longest word:  Happiness\n",
            "Length of the longest word:  9\n"
          ],
          "name": "stdout"
        }
      ]
    },
    {
      "cell_type": "code",
      "metadata": {
        "colab": {
          "base_uri": "https://localhost:8080/"
        },
        "id": "pJBa3uRLe-R9",
        "outputId": "9ce920f7-461f-4023-f2f8-efd238dfd64f"
      },
      "source": [
        "#9\r\n",
        "n=int(input(\"How many lines you want : \"))\r\n",
        "m = (2 * n) - 2\r\n",
        "for i in range(0,n):\r\n",
        "  for j in range(0,m):\r\n",
        "    print(end=\" \")\r\n",
        "  m = m - 1\r\n",
        "  for j in range(0, i + 1):\r\n",
        "    print(\"*\",end=' ')\r\n",
        "  print(\" \")"
      ],
      "execution_count": 12,
      "outputs": [
        {
          "output_type": "stream",
          "text": [
            "How many lines you want : 6\n",
            "          *  \n",
            "         * *  \n",
            "        * * *  \n",
            "       * * * *  \n",
            "      * * * * *  \n",
            "     * * * * * *  \n"
          ],
          "name": "stdout"
        }
      ]
    },
    {
      "cell_type": "code",
      "metadata": {
        "colab": {
          "base_uri": "https://localhost:8080/"
        },
        "id": "veEzs5BDgxtC",
        "outputId": "7b1d3a17-4f18-4d6b-c82d-1696ec8c2262"
      },
      "source": [
        "#10\r\n",
        "def print_factors(x):\r\n",
        "   print(\"The factors of\",x,\"are:\")\r\n",
        "   for i in range(1, x + 1):\r\n",
        "       if x % i == 0:\r\n",
        "           print(i)\r\n",
        "\r\n",
        "num = 480\r\n",
        "\r\n",
        "print_factors(num)"
      ],
      "execution_count": 14,
      "outputs": [
        {
          "output_type": "stream",
          "text": [
            "The factors of 480 are:\n",
            "1\n",
            "2\n",
            "3\n",
            "4\n",
            "5\n",
            "6\n",
            "8\n",
            "10\n",
            "12\n",
            "15\n",
            "16\n",
            "20\n",
            "24\n",
            "30\n",
            "32\n",
            "40\n",
            "48\n",
            "60\n",
            "80\n",
            "96\n",
            "120\n",
            "160\n",
            "240\n",
            "480\n"
          ],
          "name": "stdout"
        }
      ]
    },
    {
      "cell_type": "code",
      "metadata": {
        "colab": {
          "base_uri": "https://localhost:8080/"
        },
        "id": "uak-yRE4x_1w",
        "outputId": "35a80436-5810-4813-ba42-2d13e7e6e93a"
      },
      "source": [
        "#11\r\n",
        "square_area = lambda l : l * l\r\n",
        "l = int(input(\"Enter length of the square : \"))\r\n",
        "print(\"Area of the square : \" , square_area(l))\r\n",
        "\r\n",
        "rect_area = lambda l , b : l * b\r\n",
        "l = int(input(\"\\nEnter the length of rectangle : \"))\r\n",
        "b = int(input(\"Enter the breadth of rectangle : \"))\r\n",
        "print(\"Area of the rectangle : \" , rect_area(l, b))\r\n",
        "\r\n",
        "triangle_area = lambda b , h : 0.5 * b * h\r\n",
        "b = int(input(\"\\nEnter base of triangle : \"))\r\n",
        "h = int(input(\"Enter height of triangle : \"))\r\n",
        "print(\"Area of the triangle : \" , triangle_area(b , h))"
      ],
      "execution_count": 15,
      "outputs": [
        {
          "output_type": "stream",
          "text": [
            "Enter length of the square : 6\n",
            "Area of the square :  36\n",
            "\n",
            "Enter the length of rectangle : 8\n",
            "Enter the breadth of rectangle : 12\n",
            "Area of the rectangle :  96\n",
            "\n",
            "Enter base of triangle : 5\n",
            "Enter height of triangle : 8\n",
            "Area of the triangle :  20.0\n"
          ],
          "name": "stdout"
        }
      ]
    }
  ]
}