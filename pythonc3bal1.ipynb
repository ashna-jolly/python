{
  "nbformat": 4,
  "nbformat_minor": 0,
  "metadata": {
    "colab": {
      "name": "pythonc3bal1.ipynb",
      "provenance": [],
      "authorship_tag": "ABX9TyNWRXcGNHpvh8Nge2+/6suI",
      "include_colab_link": true
    },
    "kernelspec": {
      "name": "python3",
      "display_name": "Python 3"
    }
  },
  "cells": [
    {
      "cell_type": "markdown",
      "metadata": {
        "id": "view-in-github",
        "colab_type": "text"
      },
      "source": [
        "<a href=\"https://colab.research.google.com/github/ashna-jolly/python/blob/master/pythonc3bal1.ipynb\" target=\"_parent\"><img src=\"https://colab.research.google.com/assets/colab-badge.svg\" alt=\"Open In Colab\"/></a>"
      ]
    },
    {
      "cell_type": "code",
      "metadata": {
        "colab": {
          "base_uri": "https://localhost:8080/"
        },
        "id": "K5f29MVUToEa",
        "outputId": "99dad3b0-e9f8-49b9-d38c-13dbc2cfb24e"
      },
      "source": [
        "#1\r\n",
        "n=input(\"Enter your house number:\")\r\n",
        "hname=input(\"Enter your housename:\")\r\n",
        "p=input(\"Enter your place:\")\r\n",
        "d=input(\"Enter your district:\")\r\n",
        "s=input(\"Enter your state:\")\r\n",
        "c=input(\"Enter your country:\")\r\n",
        "pin=int(input(\"Enter your pincode:\"))\r\n",
        "print(\"\\nAddress Details:\\n\" +\"\\nhouse number:\",n,\"\\nhouse:\",hname,\"\\nplace:\",p,\"\\ndistrict:\",d,\"\\nstate:\",s,\"\\ncountry:\",c,\"\\npincode\",pin)\r\n"
      ],
      "execution_count": 7,
      "outputs": [
        {
          "output_type": "stream",
          "text": [
            "Enter your house number:12/2\n",
            "Enter your housename:lob villa\n",
            "Enter your place:kochi\n",
            "Enter your district:ernakulam\n",
            "Enter your state:kerala\n",
            "Enter your country:india\n",
            "Enter your pincode:688423\n",
            "\n",
            "Address Details:\n",
            "\n",
            "house number: 12/2 \n",
            "house: lob villa \n",
            "place: kochi \n",
            "district: ernakulam \n",
            "state: kerala \n",
            "country: india \n",
            "pincode 688423\n"
          ],
          "name": "stdout"
        }
      ]
    },
    {
      "cell_type": "code",
      "metadata": {
        "colab": {
          "base_uri": "https://localhost:8080/"
        },
        "id": "jZa1JwGRURT9",
        "outputId": "76fb160f-df27-46df-8ee3-0fb21e3896de"
      },
      "source": [
        "#3(a)\r\n",
        "mylist =[12, 34, 56, -9, -7]\r\n",
        "print(\"firstlist:\" , mylist)\r\n",
        "newlist =[x for x in mylist if x > 0]\r\n",
        "print(\"newlist :\",newlist)"
      ],
      "execution_count": 12,
      "outputs": [
        {
          "output_type": "stream",
          "text": [
            "firstlist: [12, 34, 56, -9, -7]\n",
            "newlist : [12, 34, 56]\n"
          ],
          "name": "stdout"
        }
      ]
    },
    {
      "cell_type": "code",
      "metadata": {
        "colab": {
          "base_uri": "https://localhost:8080/"
        },
        "id": "UUuDggjfUf6k",
        "outputId": "1a186f97-b1b1-41ca-b2f1-09d51a167c90"
      },
      "source": [
        "#3(b)\r\n",
        "n=int(input(\"enter ther limit\"))\r\n",
        "l=[]\r\n",
        "for i in range(0, n):\r\n",
        "  num=int(input(\"enter no:\"))\r\n",
        "  l.append(num)\r\n",
        "print(\"entered list\", l)\r\n",
        "l1=[i*i for i in l]\r\n",
        "print(\"list of squres\",l1)"
      ],
      "execution_count": 3,
      "outputs": [
        {
          "output_type": "stream",
          "text": [
            "enter ther limit5\n",
            "enter no:4\n",
            "enter no:5\n",
            "enter no:3\n",
            "enter no:6\n",
            "enter no:2\n",
            "entered list [4, 5, 3, 6, 2]\n",
            "list of squres [16, 25, 9, 36, 4]\n"
          ],
          "name": "stdout"
        }
      ]
    },
    {
      "cell_type": "code",
      "metadata": {
        "colab": {
          "base_uri": "https://localhost:8080/"
        },
        "id": "U2P3fmZlUxxz",
        "outputId": "b625e045-e282-4200-f602-8ebf5a6c276e"
      },
      "source": [
        "#3(c)\r\n",
        "word = input(\"enter a word\")\r\n",
        "vowels= ['a', 'e', 'i', 'o', 'u']\r\n",
        "list= []\r\n",
        "for x in word:\r\n",
        "  if(x in vowels and x not in list):\r\n",
        "    list.append(x)\r\n",
        "print(\"vowel present in the given word is:\",list)"
      ],
      "execution_count": 4,
      "outputs": [
        {
          "output_type": "stream",
          "text": [
            "enter a wordhappiness\n",
            "vowel present in the given word is: ['a', 'i', 'e']\n"
          ],
          "name": "stdout"
        }
      ]
    },
    {
      "cell_type": "code",
      "metadata": {
        "colab": {
          "base_uri": "https://localhost:8080/"
        },
        "id": "ZKxIO6UsVO-F",
        "outputId": "917938ed-8930-4a2d-cbd0-a5f39b9fa88c"
      },
      "source": [
        "#4\r\n",
        "def word_count(str):\r\n",
        "    counts = dict()\r\n",
        "    words = str.split()\r\n",
        "    for word in words:\r\n",
        "        if word in counts:\r\n",
        "            counts[word] += 1\r\n",
        "        else:\r\n",
        "            counts[word] = 1\r\n",
        "    return counts\r\n",
        "\r\n",
        "print( word_count('flowers are also called blossom.'))\r\n"
      ],
      "execution_count": 5,
      "outputs": [
        {
          "output_type": "stream",
          "text": [
            "{'flowers': 1, 'are': 1, 'also': 1, 'called': 1, 'blossom.': 1}\n"
          ],
          "name": "stdout"
        }
      ]
    },
    {
      "cell_type": "code",
      "metadata": {
        "colab": {
          "base_uri": "https://localhost:8080/"
        },
        "id": "fbIKHf2QVc9T",
        "outputId": "2e81bb3b-d852-406e-9ecd-a6c2ed083fad"
      },
      "source": [
        "#5\r\n",
        "x = []\r\n",
        "n = int(input(\"enter any integers:\"))\r\n",
        "for i in range(1, n+1):\r\n",
        "  a = int(input())\r\n",
        "  if (a>100):\r\n",
        "    x.append('over')\r\n",
        "  else:\r\n",
        "     x.append(a)\r\n",
        "print(\"modified list:\", x)"
      ],
      "execution_count": 6,
      "outputs": [
        {
          "output_type": "stream",
          "text": [
            "enter any integers:4\n",
            "5\n",
            "7\n",
            "8\n",
            "3\n",
            "modified list: [5, 7, 8, 3]\n"
          ],
          "name": "stdout"
        }
      ]
    },
    {
      "cell_type": "code",
      "metadata": {
        "colab": {
          "base_uri": "https://localhost:8080/"
        },
        "id": "uR1_ovP-WDdu",
        "outputId": "79b749b1-d429-404c-bfa7-61a11db051d1"
      },
      "source": [
        "#6\r\n",
        "name = input(\"enter the names\")\r\n",
        "list = []\r\n",
        "count = 0\r\n",
        "for x in name:\r\n",
        "   list.append(x)\r\n",
        "   if (x in name and x == 'a'):\r\n",
        "      count = count + 1\r\n",
        "print(count)"
      ],
      "execution_count": 9,
      "outputs": [
        {
          "output_type": "stream",
          "text": [
            "enter the nameskeerthana anil\n",
            "3\n"
          ],
          "name": "stdout"
        }
      ]
    },
    {
      "cell_type": "code",
      "metadata": {
        "colab": {
          "base_uri": "https://localhost:8080/"
        },
        "id": "xbJaPrpYWPpu",
        "outputId": "6455cb9e-4b33-4c82-e4a6-9e24fd54c926"
      },
      "source": [
        "#8\r\n",
        "def change_char(str1):\r\n",
        "  char = str1[0]\r\n",
        "  str1 = str1.replace(char, '$')\r\n",
        "  str1 = char + str1[1:]\r\n",
        "  return str1\r\n",
        "print(change_char('ashna'))\r\n",
        "\r\n",
        "\r\n"
      ],
      "execution_count": 10,
      "outputs": [
        {
          "output_type": "stream",
          "text": [
            "ashn$\n"
          ],
          "name": "stdout"
        }
      ]
    },
    {
      "cell_type": "code",
      "metadata": {
        "colab": {
          "base_uri": "https://localhost:8080/"
        },
        "id": "PfiFeVmgWXmh",
        "outputId": "82e0ca2d-c36e-41a5-e637-2a828c4b32d2"
      },
      "source": [
        "#9\r\n",
        "a = input(\"enter a string\")\r\n",
        "print(\"new string :\")\r\n",
        "print(a[-1:] + a[1:-1] + a[0])"
      ],
      "execution_count": 13,
      "outputs": [
        {
          "output_type": "stream",
          "text": [
            "enter a string creation\n",
            "new string :\n",
            "ncreatio \n"
          ],
          "name": "stdout"
        }
      ]
    },
    {
      "cell_type": "code",
      "metadata": {
        "colab": {
          "base_uri": "https://localhost:8080/"
        },
        "id": "H01Agj1qaBk9",
        "outputId": "9b44b5fc-f5d4-4fe7-ef0d-31b6e067c209"
      },
      "source": [
        "#16\r\n",
        "def chars_mix_up(a, b):\r\n",
        "  new_a = b[:2] + a[2:]\r\n",
        "  new_b = a[:2] + b[2:]\r\n",
        "\r\n",
        "  return new_a + ' ' + new_b\r\n",
        "print(chars_mix_up('ashna', 'jolly'))"
      ],
      "execution_count": 14,
      "outputs": [
        {
          "output_type": "stream",
          "text": [
            "johna aslly\n"
          ],
          "name": "stdout"
        }
      ]
    }
  ]
}