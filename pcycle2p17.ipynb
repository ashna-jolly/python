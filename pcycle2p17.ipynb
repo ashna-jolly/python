{
  "nbformat": 4,
  "nbformat_minor": 0,
  "metadata": {
    "colab": {
      "name": "pcycle2p17.ipynb",
      "provenance": [],
      "authorship_tag": "ABX9TyPvtURpuYc6W9WT95aY3l+s",
      "include_colab_link": true
    },
    "kernelspec": {
      "name": "python3",
      "display_name": "Python 3"
    }
  },
  "cells": [
    {
      "cell_type": "markdown",
      "metadata": {
        "id": "view-in-github",
        "colab_type": "text"
      },
      "source": [
        "<a href=\"https://colab.research.google.com/github/ashna-jolly/python/blob/master/pcycle2p17.ipynb\" target=\"_parent\"><img src=\"https://colab.research.google.com/assets/colab-badge.svg\" alt=\"Open In Colab\"/></a>"
      ]
    },
    {
      "cell_type": "code",
      "metadata": {
        "colab": {
          "base_uri": "https://localhost:8080/"
        },
        "id": "o_HiZTP474Es",
        "outputId": "f9d0f128-0abc-40db-82cc-0f12b63273cd"
      },
      "source": [
        "#17\r\n",
        "y={'david':45,'alex':20,'christy':35,'jincy':10}\r\n",
        "l=list(y.items())\r\n",
        "l.sort()\r\n",
        "print('Ascending order is:',l)\r\n",
        "l=list(y.items())\r\n",
        "l.sort(reverse=True)\r\n",
        "print('Descending order is:',l)\r\n",
        "dict=dict(l)\r\n",
        "print(\"Dictionary\",dict)"
      ],
      "execution_count": 1,
      "outputs": [
        {
          "output_type": "stream",
          "text": [
            "Ascending order is: [('alex', 20), ('christy', 35), ('david', 45), ('jincy', 10)]\n",
            "Descending order is: [('jincy', 10), ('david', 45), ('christy', 35), ('alex', 20)]\n",
            "Dictionary {'jincy': 10, 'david': 45, 'christy': 35, 'alex': 20}\n"
          ],
          "name": "stdout"
        }
      ]
    },
    {
      "cell_type": "code",
      "metadata": {
        "id": "mDv-AK538ejt"
      },
      "source": [
        ""
      ],
      "execution_count": null,
      "outputs": []
    }
  ]
}